{
  "nbformat": 4,
  "nbformat_minor": 0,
  "metadata": {
    "colab": {
      "provenance": [],
      "authorship_tag": "ABX9TyMJ7+4d7inI5J7xA/RbrkPa",
      "include_colab_link": true
    },
    "kernelspec": {
      "name": "python3",
      "display_name": "Python 3"
    },
    "language_info": {
      "name": "python"
    }
  },
  "cells": [
    {
      "cell_type": "markdown",
      "metadata": {
        "id": "view-in-github",
        "colab_type": "text"
      },
      "source": [
        "<a href=\"https://colab.research.google.com/github/subashkatwal/Transformers_projects/blob/main/Extraction.ipynb\" target=\"_parent\"><img src=\"https://colab.research.google.com/assets/colab-badge.svg\" alt=\"Open In Colab\"/></a>"
      ]
    },
    {
      "cell_type": "code",
      "execution_count": 9,
      "metadata": {
        "colab": {
          "base_uri": "https://localhost:8080/"
        },
        "id": "F41JKbP0dtNc",
        "outputId": "d9cf7d7f-ac19-476e-e196-e3e5be8bf8a1"
      },
      "outputs": [
        {
          "output_type": "stream",
          "name": "stderr",
          "text": [
            "/usr/local/lib/python3.10/dist-packages/huggingface_hub/utils/_auth.py:94: UserWarning: \n",
            "The secret `HF_TOKEN` does not exist in your Colab secrets.\n",
            "To authenticate with the Hugging Face Hub, create a token in your settings tab (https://huggingface.co/settings/tokens), set it as secret in your Google Colab and restart your session.\n",
            "You will be able to reuse this secret in all of your notebooks.\n",
            "Please note that authentication is recommended but still optional to access public models or datasets.\n",
            "  warnings.warn(\n",
            "The `max_size` parameter is deprecated and will be removed in v4.26. Please specify in `size['longest_edge'] instead`.\n",
            "Some weights of the model checkpoint at microsoft/table-transformer-detection were not used when initializing TableTransformerForObjectDetection: ['model.backbone.conv_encoder.model.layer2.0.downsample.1.num_batches_tracked', 'model.backbone.conv_encoder.model.layer3.0.downsample.1.num_batches_tracked', 'model.backbone.conv_encoder.model.layer4.0.downsample.1.num_batches_tracked']\n",
            "- This IS expected if you are initializing TableTransformerForObjectDetection from the checkpoint of a model trained on another task or with another architecture (e.g. initializing a BertForSequenceClassification model from a BertForPreTraining model).\n",
            "- This IS NOT expected if you are initializing TableTransformerForObjectDetection from the checkpoint of a model that you expect to be exactly identical (initializing a BertForSequenceClassification model from a BertForSequenceClassification model).\n",
            "Some weights of the model checkpoint at microsoft/table-transformer-detection were not used when initializing TableTransformerForObjectDetection: ['model.backbone.conv_encoder.model.layer2.0.downsample.1.num_batches_tracked', 'model.backbone.conv_encoder.model.layer3.0.downsample.1.num_batches_tracked', 'model.backbone.conv_encoder.model.layer4.0.downsample.1.num_batches_tracked']\n",
            "- This IS expected if you are initializing TableTransformerForObjectDetection from the checkpoint of a model trained on another task or with another architecture (e.g. initializing a BertForSequenceClassification model from a BertForPreTraining model).\n",
            "- This IS NOT expected if you are initializing TableTransformerForObjectDetection from the checkpoint of a model that you expect to be exactly identical (initializing a BertForSequenceClassification model from a BertForSequenceClassification model).\n"
          ]
        }
      ],
      "source": [
        "# Load model directly\n",
        "from transformers import AutoImageProcessor, AutoModelForObjectDetection\n",
        "\n",
        "processor = AutoImageProcessor.from_pretrained(\"microsoft/table-transformer-detection\")\n",
        "model = AutoModelForObjectDetection.from_pretrained(\"microsoft/table-transformer-detection\")"
      ]
    },
    {
      "cell_type": "code",
      "source": [
        "import requests\n",
        "from PIL import Image, ImageDraw"
      ],
      "metadata": {
        "id": "BgLz4m8cdwBt"
      },
      "execution_count": 10,
      "outputs": []
    },
    {
      "cell_type": "code",
      "source": [
        "image_url = '/content/tableSample.png'\n",
        "image = Image.open(image_url)\n",
        "\n",
        "image = image.convert(\"RGB\")"
      ],
      "metadata": {
        "id": "woq_gXsSeSbo"
      },
      "execution_count": 11,
      "outputs": []
    },
    {
      "cell_type": "code",
      "source": [
        "inputs = processor(images=image, return_tensors=\"pt\")\n",
        "\n",
        "# Perform inference\n",
        "outputs = model(**inputs)\n",
        "\n",
        "# Post-process the outputs\n",
        "results = processor.post_process_object_detection(outputs, threshold=0.9, target_sizes=[image.size])\n",
        "\n",
        "# Iterate over results and print table bounding boxes\n",
        "for result in results:\n",
        "    for score, label, box in zip(result[\"scores\"], result[\"labels\"], result[\"boxes\"]):\n",
        "        label_value = label.item()\n",
        "        print(f\"Detected label {label_value} with confidence {score:.2f}\")\n",
        "        print(f\"Bounding Box: {box.tolist()}\")"
      ],
      "metadata": {
        "colab": {
          "base_uri": "https://localhost:8080/"
        },
        "id": "XJ0-GPuzfdLL",
        "outputId": "b81c5a68-3a3e-4e6d-f97f-6d7b69959a30"
      },
      "execution_count": 12,
      "outputs": [
        {
          "output_type": "stream",
          "name": "stdout",
          "text": [
            "Detected label 0 with confidence 1.00\n",
            "Bounding Box: [502.3701477050781, 602.5301513671875, 2110.845947265625, 1032.193603515625]\n",
            "Detected label 0 with confidence 1.00\n",
            "Bounding Box: [502.3701477050781, 602.5301513671875, 2110.845947265625, 1032.193603515625]\n"
          ]
        }
      ]
    },
    {
      "cell_type": "code",
      "source": [],
      "metadata": {
        "id": "5LGYv-az20T-"
      },
      "execution_count": 12,
      "outputs": []
    },
    {
      "cell_type": "code",
      "source": [
        "# Extract the bounding box coordinates\n",
        "xmin, ymin, xmax, ymax = 100.37, 500.53, 3110.85, 4032.19\n",
        "\n",
        "# Crop the image to the bounding box\n",
        "cropped_table = image.crop((xmin, ymin, xmax, ymax))\n",
        "\n",
        "# Display the cropped image (optional)\n",
        "cropped_table.show()"
      ],
      "metadata": {
        "id": "wEv3kJ_v1rSm"
      },
      "execution_count": 13,
      "outputs": []
    },
    {
      "cell_type": "code",
      "source": [
        "from pytesseract import image_to_string\n",
        "\n",
        "# Extract text from the cropped table\n",
        "table_text = image_to_string(cropped_table)\n",
        "print(f\"Extracted Table Text:\\n{table_text}\")"
      ],
      "metadata": {
        "colab": {
          "base_uri": "https://localhost:8080/"
        },
        "id": "0Y0u5Se01ntQ",
        "outputId": "0c1000b1-f9ed-4234-c891-9eea46b17978"
      },
      "execution_count": 14,
      "outputs": [
        {
          "output_type": "stream",
          "name": "stdout",
          "text": [
            "Extracted Table Text:\n",
            "Preparea By\n",
            "\n",
            "Reviewed by\n",
            "\n",
            "Approved by\n",
            "\n",
            "2. Audit Information\n",
            "\n",
            "Management Systems Quality Management Systems\n",
            "\n",
            "Audit Criteria ISO 9001:2015, Industry Best Practices\n",
            "Audit Type Internal\n",
            "Audit Date 14-15 July, 2022\n",
            "\n",
            "Report Distribution Management Representative,\n",
            "Head of departments/ Process owners\n",
            "Top management\n",
            "\n",
            "Auditor(s)\n",
            "\n",
            "Audit Team\n",
            "\n",
            "Audit duration 02 Auditor Days\n",
            "\n",
            "3. Audit Objectives and Criteria\n",
            "\n",
            "The objectives and criterial of the audit are\n",
            "\n",
            "Determination of extent of conformity of organization’s documented quality\n",
            "management systems against ISO 9001:2015; applicable legal requirements and\n",
            "industry best practices,\n",
            "\n",
            "Evaluation of efficiency and effectiveness of aforesaid quality management systems in\n",
            "meeting its specified objectives, and\n",
            "\n",
            "Identification of areas for improvement in order to add value to these systems.\n",
            "\n",
            " \n",
            "\f\n",
            "Extracted Table Text:\n",
            "Preparea By\n",
            "\n",
            "Reviewed by\n",
            "\n",
            "Approved by\n",
            "\n",
            "2. Audit Information\n",
            "\n",
            "Management Systems Quality Management Systems\n",
            "\n",
            "Audit Criteria ISO 9001:2015, Industry Best Practices\n",
            "Audit Type Internal\n",
            "Audit Date 14-15 July, 2022\n",
            "\n",
            "Report Distribution Management Representative,\n",
            "Head of departments/ Process owners\n",
            "Top management\n",
            "\n",
            "Auditor(s)\n",
            "\n",
            "Audit Team\n",
            "\n",
            "Audit duration 02 Auditor Days\n",
            "\n",
            "3. Audit Objectives and Criteria\n",
            "\n",
            "The objectives and criterial of the audit are\n",
            "\n",
            "Determination of extent of conformity of organization’s documented quality\n",
            "management systems against ISO 9001:2015; applicable legal requirements and\n",
            "industry best practices,\n",
            "\n",
            "Evaluation of efficiency and effectiveness of aforesaid quality management systems in\n",
            "meeting its specified objectives, and\n",
            "\n",
            "Identification of areas for improvement in order to add value to these systems.\n",
            "\n",
            " \n",
            "\f\n"
          ]
        }
      ]
    },
    {
      "cell_type": "code",
      "source": [
        "!apt-get install tesseract-ocr\n",
        "!pip install pytesseract\n",
        "\n"
      ],
      "metadata": {
        "colab": {
          "base_uri": "https://localhost:8080/"
        },
        "id": "iRZGe9kAjc3J",
        "outputId": "d825c21e-5a62-487d-b3d9-a85cbc040b7f"
      },
      "execution_count": 15,
      "outputs": [
        {
          "output_type": "stream",
          "name": "stdout",
          "text": [
            "Reading package lists... Done\n",
            "Building dependency tree... Done\n",
            "Reading state information... Done\n",
            "tesseract-ocr is already the newest version (4.1.1-2.1build1).\n",
            "0 upgraded, 0 newly installed, 0 to remove and 49 not upgraded.\n",
            "Requirement already satisfied: pytesseract in /usr/local/lib/python3.10/dist-packages (0.3.13)\n",
            "Requirement already satisfied: packaging>=21.3 in /usr/local/lib/python3.10/dist-packages (from pytesseract) (24.2)\n",
            "Requirement already satisfied: Pillow>=8.0.0 in /usr/local/lib/python3.10/dist-packages (from pytesseract) (11.0.0)\n",
            "Reading package lists... Done\n",
            "Building dependency tree... Done\n",
            "Reading state information... Done\n",
            "tesseract-ocr is already the newest version (4.1.1-2.1build1).\n",
            "0 upgraded, 0 newly installed, 0 to remove and 49 not upgraded.\n",
            "Requirement already satisfied: pytesseract in /usr/local/lib/python3.10/dist-packages (0.3.13)\n",
            "Requirement already satisfied: packaging>=21.3 in /usr/local/lib/python3.10/dist-packages (from pytesseract) (24.2)\n",
            "Requirement already satisfied: Pillow>=8.0.0 in /usr/local/lib/python3.10/dist-packages (from pytesseract) (11.0.0)\n"
          ]
        }
      ]
    },
    {
      "cell_type": "code",
      "source": [
        "from transformers import pipeline\n",
        "\n",
        "# Load pre-trained question answering pipeline\n",
        "qa_pipeline = pipeline(\"question-answering\", model=\"distilbert-base-uncased-distilled-squad\")\n",
        "\n",
        "\n",
        "\n",
        "# Define a question\n",
        "question = input(\"Ask anything from the table above \")\n",
        "\n",
        "# Run the question answering model\n",
        "answer = qa_pipeline(question=question, context=table_text)\n",
        "\n",
        "# Print the answer\n",
        "print(f\"Answer: {answer['answer']}\")\n"
      ],
      "metadata": {
        "colab": {
          "base_uri": "https://localhost:8080/"
        },
        "id": "OSTd3tqBj2J6",
        "outputId": "7b717870-3708-411a-e1b6-346210c7297a"
      },
      "execution_count": null,
      "outputs": [
        {
          "output_type": "stream",
          "name": "stderr",
          "text": [
            "Hardware accelerator e.g. GPU is available in the environment, but no `device` argument is passed to the `Pipeline` object. Model will be on CPU.\n"
          ]
        }
      ]
    },
    {
      "cell_type": "code",
      "source": [],
      "metadata": {
        "id": "llzfAOlqyWZp"
      },
      "execution_count": 16,
      "outputs": []
    }
  ]
}